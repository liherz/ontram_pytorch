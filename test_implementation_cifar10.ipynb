{
 "cells": [
  {
   "cell_type": "markdown",
   "metadata": {
    "vscode": {
     "languageId": "plaintext"
    }
   },
   "source": [
    "# Test pytorch implementation"
   ]
  },
  {
   "cell_type": "code",
   "execution_count": 1,
   "metadata": {},
   "outputs": [],
   "source": [
    "# Load dependencies\n",
    "import numpy as np\n",
    "from matplotlib import pyplot as plt\n",
    "import pandas as pd\n",
    "import os\n",
    "\n",
    "import torch\n",
    "import torch.nn as nn \n",
    "import torch.nn.functional as F\n",
    "from torch.utils.data import DataLoader, Subset\n",
    "import torchvision\n",
    "import torchvision.models as models\n",
    "import torchvision.transforms as transforms\n",
    "import torch.optim as optim\n",
    "\n",
    "from ontram_pytorch import OntramModel\n",
    "from ontram_pytorch import fit_ontram, predict_ontram, classification_metrics"
   ]
  },
  {
   "cell_type": "code",
   "execution_count": 2,
   "metadata": {},
   "outputs": [
    {
     "name": "stdout",
     "output_type": "stream",
     "text": [
      "Folder /home/hezo/ontram_pytorch/checkpoints_cifar10/ already exists.\n"
     ]
    }
   ],
   "source": [
    "DIR = '/home/hezo/'\n",
    "OUTPUT_DIR = DIR + 'ontram_pytorch/checkpoints_cifar10/'\n",
    "\n",
    "if not os.path.exists(OUTPUT_DIR):\n",
    "    os.mkdir(OUTPUT_DIR)\n",
    "    print(f\"Created folder {OUTPUT_DIR}\")\n",
    "else:\n",
    "    print(f\"Folder {OUTPUT_DIR} already exists.\")"
   ]
  },
  {
   "cell_type": "markdown",
   "metadata": {},
   "source": [
    "# Data"
   ]
  },
  {
   "cell_type": "code",
   "execution_count": 3,
   "metadata": {},
   "outputs": [
    {
     "name": "stdout",
     "output_type": "stream",
     "text": [
      "Files already downloaded and verified\n",
      "Files already downloaded and verified\n",
      "Image batch shape: torch.Size([32, 3, 32, 32])\n",
      "Label batch shape: torch.Size([32, 10])\n"
     ]
    }
   ],
   "source": [
    "# Define the transformations to apply to each image.\n",
    "# For example, convert images to tensors and normalize them.\n",
    "transform = transforms.Compose([\n",
    "    transforms.ToTensor(),\n",
    "    transforms.Normalize((0.5, 0.5, 0.5), (0.5, 0.5, 0.5))  # normalize RGB channels\n",
    "])\n",
    "\n",
    "train_dataset = torchvision.datasets.CIFAR10(root='./data', train=True, download=True, transform=transform)\n",
    "test_dataset = torchvision.datasets.CIFAR10(root='./data', train=False, download=True, transform=transform)\n",
    "\n",
    "# one hot encode labels for ontram\n",
    "def one_hot_encode_labels(labels, num_classes=10):\n",
    "    return F.one_hot(labels, num_classes=num_classes).float()\n",
    "\n",
    "# Custom collate function to apply one-hot encoding\n",
    "def collate_fn(batch):\n",
    "    images, labels = zip(*batch)  # Unpack images and labels\n",
    "    images = torch.stack(images, dim=0)  # Stack images into a single tensor\n",
    "    labels = torch.tensor(labels)  # Convert labels to tensor\n",
    "    labels = one_hot_encode_labels(labels)  # One-hot encode labels\n",
    "    return images, labels\n",
    "\n",
    "# consider only a subset\n",
    "subset_indices = list(range(20000))\n",
    "train_dataset_sub = Subset(train_dataset, subset_indices)\n",
    "subset_indices = list(range(2000))\n",
    "test_dataset_sub = Subset(test_dataset, subset_indices)\n",
    "\n",
    "# Create train and test DataLoaders with the custom collate function\n",
    "train_loader = DataLoader(train_dataset_sub, batch_size=32, shuffle=True, num_workers=2, collate_fn=collate_fn)\n",
    "test_loader = DataLoader(test_dataset_sub, batch_size=32, shuffle=False, num_workers=2, collate_fn=collate_fn)\n",
    "\n",
    "#train_loader = DataLoader(train_dataset, batch_size=64, shuffle=True, num_workers=2)\n",
    "#test_loader = DataLoader(test_dataset, batch_size=64, shuffle=False, num_workers=2)\n",
    "\n",
    "data_iter = iter(train_loader)\n",
    "images, labels = next(data_iter)\n",
    "print(f\"Image batch shape: {images.shape}\")\n",
    "print(f\"Label batch shape: {labels.shape}\")"
   ]
  },
  {
   "cell_type": "code",
   "execution_count": 4,
   "metadata": {},
   "outputs": [
    {
     "name": "stderr",
     "output_type": "stream",
     "text": [
      "Clipping input data to the valid range for imshow with RGB data ([0..1] for floats or [0..255] for integers). Got range [-0.9607843..0.99215686].\n"
     ]
    },
    {
     "data": {
      "image/png": "[encoded data removed]",
      "text/plain": [
       "<Figure size 640x480 with 1 Axes>"
      ]
     },
     "metadata": {},
     "output_type": "display_data"
    }
   ],
   "source": [
    "img_pt, label = train_dataset[1]\n",
    "img = img_pt.numpy().transpose((1, 2, 0))\n",
    "\n",
    "plt.imshow(img, interpolation='nearest')\n",
    "plt.title(f\"Label: {train_dataset.classes[label]}\")\n",
    "plt.axis('off')\n",
    "plt.show()"
   ]
  },
  {
   "cell_type": "code",
   "execution_count": 5,
   "metadata": {},
   "outputs": [
    {
     "name": "stdout",
     "output_type": "stream",
     "text": [
      "Classes:  ['airplane', 'automobile', 'bird', 'cat', 'deer', 'dog', 'frog', 'horse', 'ship', 'truck']\n"
     ]
    }
   ],
   "source": [
    "print(\"Classes: \", train_dataset.classes)"
   ]
  },
  {
   "cell_type": "markdown",
   "metadata": {},
   "source": [
    "# Model"
   ]
  },
  {
   "cell_type": "code",
   "execution_count": 6,
   "metadata": {},
   "outputs": [],
   "source": [
    "# Hyperparameters\n",
    "device = 'cuda'\n",
    "epochs = 20\n",
    "lr = 0.001"
   ]
  },
  {
   "cell_type": "markdown",
   "metadata": {},
   "source": [
    "#### General implementation"
   ]
  },
  {
   "cell_type": "code",
   "execution_count": 7,
   "metadata": {},
   "outputs": [],
   "source": [
    "class SimpleCNN(nn.Module):\n",
    "    def __init__(self):\n",
    "        super(SimpleCNN, self).__init__()\n",
    "        self.conv1 = nn.Conv2d(3, 32, kernel_size=3, padding=1)\n",
    "        self.conv2 = nn.Conv2d(32, 64, kernel_size=3, padding=1)\n",
    "        self.conv3 = nn.Conv2d(64, 128, kernel_size=3, padding=1)\n",
    "        self.pool = nn.MaxPool2d(2, 2)\n",
    "        self.fc1 = nn.Linear(128 * 4 * 4, 256)\n",
    "        self.fc2 = nn.Linear(256, 10, bias=True)\n",
    "        self.relu = nn.ReLU()\n",
    "        self.dropout = nn.Dropout(0.5)\n",
    "\n",
    "    def forward(self, x):\n",
    "        x = self.pool(self.relu(self.conv1(x)))\n",
    "        x = self.pool(self.relu(self.conv2(x)))\n",
    "        x = self.pool(self.relu(self.conv3(x)))\n",
    "        x = x.view(-1, 128 * 4 * 4) \n",
    "        x = self.relu(self.fc1(x)) \n",
    "        x = self.dropout(x)  \n",
    "        x = self.fc2(x)  \n",
    "        return x"
   ]
  },
  {
   "cell_type": "code",
   "execution_count": 8,
   "metadata": {},
   "outputs": [
    {
     "data": {
      "text/plain": [
       "SimpleCNN(\n",
       "  (conv1): Conv2d(3, 32, kernel_size=(3, 3), stride=(1, 1), padding=(1, 1))\n",
       "  (conv2): Conv2d(32, 64, kernel_size=(3, 3), stride=(1, 1), padding=(1, 1))\n",
       "  (conv3): Conv2d(64, 128, kernel_size=(3, 3), stride=(1, 1), padding=(1, 1))\n",
       "  (pool): MaxPool2d(kernel_size=2, stride=2, padding=0, dilation=1, ceil_mode=False)\n",
       "  (fc1): Linear(in_features=2048, out_features=256, bias=True)\n",
       "  (fc2): Linear(in_features=256, out_features=10, bias=True)\n",
       "  (relu): ReLU()\n",
       "  (dropout): Dropout(p=0.5, inplace=False)\n",
       ")"
      ]
     },
     "execution_count": 8,
     "metadata": {},
     "output_type": "execute_result"
    }
   ],
   "source": [
    "# Define model\n",
    "model = SimpleCNN()\n",
    "model = model.to(device)\n",
    "\n",
    "# Define loss and optimizer\n",
    "criterion = nn.CrossEntropyLoss()\n",
    "optimizer = optim.Adam(model.parameters(), lr=lr)\n",
    "\n",
    "model"
   ]
  },
  {
   "cell_type": "code",
   "execution_count": 9,
   "metadata": {},
   "outputs": [
    {
     "name": "stdout",
     "output_type": "stream",
     "text": [
      "Epoch 1, Loss: 1.7078850456237793\n",
      "Epoch 2, Loss: 1.3427010618209838\n",
      "Epoch 3, Loss: 1.167658680343628\n",
      "Epoch 4, Loss: 1.0196236207008362\n",
      "Epoch 5, Loss: 0.9211402674674988\n",
      "Epoch 6, Loss: 0.8141905107498169\n",
      "Epoch 7, Loss: 0.7290066030979157\n",
      "Epoch 8, Loss: 0.6610491582870484\n",
      "Epoch 9, Loss: 0.5990523226737976\n",
      "Epoch 10, Loss: 0.5335206910848618\n",
      "Epoch 11, Loss: 0.4817766573667526\n",
      "Epoch 12, Loss: 0.43977753870487213\n",
      "Epoch 13, Loss: 0.39883075156211856\n",
      "Epoch 14, Loss: 0.36704229617118833\n",
      "Epoch 15, Loss: 0.33183709685206414\n",
      "Epoch 16, Loss: 0.3085206061542034\n",
      "Epoch 17, Loss: 0.2892671183884144\n",
      "Epoch 18, Loss: 0.26957514313459396\n",
      "Epoch 19, Loss: 0.2505058567225933\n",
      "Epoch 20, Loss: 0.24659470533132552\n",
      "Test Accuracy: 69.35%\n"
     ]
    }
   ],
   "source": [
    "# Train the model\n",
    "for epoch in range(epochs):\n",
    "    model.train()\n",
    "    running_loss = 0.0\n",
    "    for images, labels in train_loader:\n",
    "        images, labels = images.to(device), labels.to(device)\n",
    "        \n",
    "        optimizer.zero_grad()\n",
    "        outputs = model(images)\n",
    "        loss = criterion(outputs, labels)\n",
    "        # print(\"Batch loss: \", loss)\n",
    "        loss.backward()\n",
    "        optimizer.step()\n",
    "        \n",
    "        running_loss += loss.item()\n",
    "    \n",
    "    print(f\"Epoch {epoch+1}, Loss: {running_loss/len(train_loader)}\")\n",
    "\n",
    "# Evaluate the model\n",
    "model.eval()\n",
    "correct = 0\n",
    "total = 0\n",
    "with torch.no_grad():\n",
    "    for images, labels in test_loader:\n",
    "        images, labels = images.to(device), labels.to(device)\n",
    "        outputs = model(images)\n",
    "        _, predicted = torch.max(outputs, 1)\n",
    "        _, true = torch.max(labels, 1)\n",
    "        total += labels.size(0)\n",
    "        correct += (predicted == true).sum().item()\n",
    "\n",
    "accuracy = 100 * correct / total\n",
    "print(f\"Test Accuracy: {accuracy:.2f}%\")"
   ]
  },
  {
   "cell_type": "markdown",
   "metadata": {},
   "source": [
    "#### ontram implementation"
   ]
  },
  {
   "cell_type": "code",
   "execution_count": 10,
   "metadata": {},
   "outputs": [
    {
     "name": "stdout",
     "output_type": "stream",
     "text": [
      "Folder /home/hezo/ontram_pytorch/checkpoints_cifar10/csb/ already exists.\n"
     ]
    }
   ],
   "source": [
    "# Create folder for model\n",
    "MODEL_DIR = OUTPUT_DIR + 'csb/'\n",
    "\n",
    "if not os.path.exists(MODEL_DIR):\n",
    "    os.mkdir(MODEL_DIR)\n",
    "    print(f\"Created folder {MODEL_DIR}\")\n",
    "else:\n",
    "    print(f\"Folder {MODEL_DIR} already exists.\")"
   ]
  },
  {
   "cell_type": "code",
   "execution_count": 11,
   "metadata": {},
   "outputs": [],
   "source": [
    "class SimpleCNN1(nn.Module):\n",
    "    def __init__(self):\n",
    "        super(SimpleCNN1, self).__init__()\n",
    "        self.conv1 = nn.Conv2d(3, 32, kernel_size=3, padding=1)\n",
    "        self.conv2 = nn.Conv2d(32, 64, kernel_size=3, padding=1)\n",
    "        self.conv3 = nn.Conv2d(64, 128, kernel_size=3, padding=1)\n",
    "        self.pool = nn.MaxPool2d(2, 2)\n",
    "        self.fc1 = nn.Linear(128 * 4 * 4, 256)\n",
    "        # Output layer: Change number of classes to C-1=9 and bias=False\n",
    "        self.fc2 = nn.Linear(256, 9, bias=False)\n",
    "        self.relu = nn.ReLU()\n",
    "        self.dropout = nn.Dropout(0.5)\n",
    "\n",
    "    def forward(self, x):\n",
    "        x = self.pool(self.relu(self.conv1(x)))\n",
    "        x = self.pool(self.relu(self.conv2(x)))\n",
    "        x = self.pool(self.relu(self.conv3(x)))\n",
    "        x = x.view(-1, 128 * 4 * 4) \n",
    "        x = self.relu(self.fc1(x)) \n",
    "        x = self.dropout(x)  \n",
    "        x = self.fc2(x)  \n",
    "        return x"
   ]
  },
  {
   "cell_type": "code",
   "execution_count": 12,
   "metadata": {},
   "outputs": [
    {
     "name": "stdout",
     "output_type": "stream",
     "text": [
      "Train with GPU support.\n"
     ]
    },
    {
     "name": "stdout",
     "output_type": "stream",
     "text": [
      "Epoch 1/20, Train Loss: 2.1765, Validation Loss: 0.0000\n",
      "Epoch 2/20, Train Loss: 1.8134, Validation Loss: 0.0000\n",
      "Epoch 3/20, Train Loss: 1.6828, Validation Loss: 0.0000\n",
      "Epoch 4/20, Train Loss: 1.5964, Validation Loss: 0.0000\n",
      "Epoch 5/20, Train Loss: 1.5353, Validation Loss: 0.0000\n",
      "Epoch 6/20, Train Loss: 1.4936, Validation Loss: 0.0000\n",
      "Epoch 7/20, Train Loss: 1.4505, Validation Loss: 0.0000\n",
      "Epoch 8/20, Train Loss: 1.4074, Validation Loss: 0.0000\n",
      "Epoch 9/20, Train Loss: 1.3744, Validation Loss: 0.0000\n",
      "Epoch 10/20, Train Loss: 1.3330, Validation Loss: 0.0000\n",
      "Epoch 11/20, Train Loss: 1.3045, Validation Loss: 0.0000\n",
      "Epoch 12/20, Train Loss: 1.2766, Validation Loss: 0.0000\n",
      "Epoch 13/20, Train Loss: 1.2425, Validation Loss: 0.0000\n",
      "Epoch 14/20, Train Loss: 1.2158, Validation Loss: 0.0000\n",
      "Epoch 15/20, Train Loss: 1.1858, Validation Loss: 0.0000\n",
      "Epoch 16/20, Train Loss: 1.1598, Validation Loss: 0.0000\n",
      "Epoch 17/20, Train Loss: 1.1342, Validation Loss: 0.0000\n",
      "Epoch 18/20, Train Loss: 1.1113, Validation Loss: 0.0000\n",
      "Epoch 19/20, Train Loss: 1.0866, Validation Loss: 0.0000\n",
      "Epoch 20/20, Train Loss: 1.0591, Validation Loss: 0.0000\n"
     ]
    },
    {
     "data": {
      "text/plain": [
       "{'train_loss': [2.1764887098312378,\n",
       "  1.8133694383621215,\n",
       "  1.6827516424179076,\n",
       "  1.596358761405945,\n",
       "  1.5353078927993775,\n",
       "  1.4936164836883545,\n",
       "  1.4505273359298707,\n",
       "  1.4073696729660035,\n",
       "  1.374352462863922,\n",
       "  1.3329762325286865,\n",
       "  1.304539942073822,\n",
       "  1.276573459625244,\n",
       "  1.24249857711792,\n",
       "  1.215767066192627,\n",
       "  1.1858263716697692,\n",
       "  1.1598230562210083,\n",
       "  1.1342203300476075,\n",
       "  1.1112556621551513,\n",
       "  1.0865833562850953,\n",
       "  1.0591016373634339],\n",
       " 'val_loss': []}"
      ]
     },
     "execution_count": 12,
     "metadata": {},
     "output_type": "execute_result"
    }
   ],
   "source": [
    "ontram_model = OntramModel(SimpleCNN1())\n",
    "\n",
    "# Slower in training (makes sense, we have no ordinal outcome here), learing rate has to be lower\n",
    "fit_ontram(ontram_model, train_loader, \n",
    "           optimizer=torch.optim.Adam(ontram_model.parameters(), lr=0.0001), \n",
    "           epochs=epochs, checkpoint_path=MODEL_DIR, si=False)"
   ]
  },
  {
   "cell_type": "code",
   "execution_count": 13,
   "metadata": {},
   "outputs": [],
   "source": [
    "results = predict_ontram(ontram_model, test_loader, output='all', si=False)"
   ]
  },
  {
   "cell_type": "code",
   "execution_count": 14,
   "metadata": {},
   "outputs": [
    {
     "data": {
      "text/plain": [
       "array([[0., 0., 0., ..., 0., 0., 0.],\n",
       "       [0., 0., 0., ..., 0., 1., 0.],\n",
       "       [0., 0., 0., ..., 0., 1., 0.],\n",
       "       ...,\n",
       "       [0., 0., 0., ..., 0., 0., 1.],\n",
       "       [0., 0., 0., ..., 0., 1., 0.],\n",
       "       [0., 0., 0., ..., 0., 0., 0.]], dtype=float32)"
      ]
     },
     "execution_count": 14,
     "metadata": {},
     "output_type": "execute_result"
    }
   ],
   "source": [
    "y_test = []\n",
    "for images, labels in test_loader:  # Assuming (images, labels) format\n",
    "    y_test.extend(labels.numpy())  # Convert to numpy for easy handling\n",
    "y_test = np.array(y_test)  # Convert to numpy array (optional)\n",
    "y_test"
   ]
  },
  {
   "cell_type": "code",
   "execution_count": 15,
   "metadata": {},
   "outputs": [
    {
     "data": {
      "text/plain": [
       "{'accuracy': 0.6315}"
      ]
     },
     "execution_count": 15,
     "metadata": {},
     "output_type": "execute_result"
    }
   ],
   "source": [
    "classification_metrics(results, y_test)"
   ]
  }
 ],
 "metadata": {
  "kernelspec": {
   "display_name": ".venv",
   "language": "python",
   "name": "python3"
  },
  "language_info": {
   "codemirror_mode": {
    "name": "ipython",
    "version": 3
   },
   "file_extension": ".py",
   "mimetype": "text/x-python",
   "name": "python",
   "nbconvert_exporter": "python",
   "pygments_lexer": "ipython3",
   "version": "3.11.0rc1"
  }
 },
 "nbformat": 4,
 "nbformat_minor": 2
}
